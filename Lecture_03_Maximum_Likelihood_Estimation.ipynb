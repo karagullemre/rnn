{
  "nbformat": 4,
  "nbformat_minor": 0,
  "metadata": {
    "kernelspec": {
      "display_name": "Python 3",
      "language": "python",
      "name": "python3"
    },
    "language_info": {
      "codemirror_mode": {
        "name": "ipython",
        "version": 3
      },
      "file_extension": ".py",
      "mimetype": "text/x-python",
      "name": "python",
      "nbconvert_exporter": "python",
      "pygments_lexer": "ipython3",
      "version": "3.7.4"
    },
    "colab": {
      "name": "Lecture 03_Maximum Likelihood Estimation.ipynb",
      "provenance": [],
      "collapsed_sections": [],
      "include_colab_link": true
    }
  },
  "cells": [
    {
      "cell_type": "markdown",
      "metadata": {
        "id": "view-in-github",
        "colab_type": "text"
      },
      "source": [
        "<a href=\"https://colab.research.google.com/github/karagullemre/rnn/blob/master/Lecture_03_Maximum_Likelihood_Estimation.ipynb\" target=\"_parent\"><img src=\"https://colab.research.google.com/assets/colab-badge.svg\" alt=\"Open In Colab\"/></a>"
      ]
    },
    {
      "cell_type": "markdown",
      "metadata": {
        "id": "7Lsfn31_3UPp",
        "colab_type": "text"
      },
      "source": [
        "## <center><font color=navy>ECON 4984: Big Data Economics</font></center>\n",
        "### <center>Maximum Likelihood Estimation (MLE)</center>\n",
        "#### <center>Ali Habibnia, habibnia@vt.edu</center>\n",
        "#### <center>Virginia Tech, Fall 2019</center>"
      ]
    },
    {
      "cell_type": "markdown",
      "metadata": {
        "id": "-CSbqASt3UPt",
        "colab_type": "text"
      },
      "source": [
        "\n",
        "\n",
        "### <center>Linear Regression : The Probabilistic Perspective</center>\n",
        "\n",
        "Probability is a great way to express the relationship between the data and the model, concisely. We are familiar with how Linear Regression works. We know the loss function just tries to minimize the quadratic distance between data points and the model (line). Today, we will revisit Linear Regression from a probabilistic perspective, using a method known as the Maximum Likelihood estimation.\n",
        "\n",
        "<center>\n",
        "<img src=\"https://raw.githubusercontent.com/nimamox/bigdata-nb-files/master/Week3/images/lr2.png\"  width=\"600\">\n",
        "</center>\n",
        "\n",
        "\n"
      ]
    },
    {
      "cell_type": "markdown",
      "metadata": {
        "id": "DgEhr-yE3UPx",
        "colab_type": "text"
      },
      "source": [
        "## Readings:\n",
        "\n",
        "1. ***Chapter 8.2*** [The Elements of Statistical Learning: Data Mining, Inference, and Prediction](https://web.stanford.edu/~hastie/ElemStatLearn/printings/ESLII_print12.pdf). \n",
        "2. For a quick review see: ***Chapter 24.1***, Understanding Machine Learning From Theory to Algorithms.\n",
        "3. Nando de Fretais’s [lecture](https://www.youtube.com/watch?v=voN8omBe2r4)"
      ]
    },
    {
      "cell_type": "markdown",
      "metadata": {
        "id": "h1dN_P2f3UP1",
        "colab_type": "text"
      },
      "source": [
        "> In simple terms, MLE lets us choose a model (parameters) that explains the data (sample set) better than all other models. For any given regression model, the objective function can be derived based on the principle of Maximum Likelihood.\n",
        "\n",
        "- Maximum Likelihood Estimation or MLE is a tool based on probability. \n",
        "- Probability is a framework for meauring and managing uncertainty. \n",
        "- Every inference we make, has some degree of uncertainty associated with it. \n",
        "- It is essential for us to quantify this uncertainty."
      ]
    },
    {
      "cell_type": "markdown",
      "metadata": {
        "id": "2FqjLxUj3UP4",
        "colab_type": "text"
      },
      "source": [
        "## Normal (Gaussian) Distribution"
      ]
    },
    {
      "cell_type": "markdown",
      "metadata": {
        "id": "DgOopd3b3UP-",
        "colab_type": "text"
      },
      "source": [
        "A probability distribution is a function that provides us the probabilities of all possible outcomes of a stochastic process. The most commonly occurring distribution is the Gaussian Distribution or the Normal Distribution.\n",
        "\n",
        "The gaussian distribution is a means to measure the uncertainty of a variable that is continuous between $-\\infty$ and $+\\infty$. The distribution is centered at mean, $\\mu$. The width (dispersion) of the distribution depends on the parameter $\\sigma$, the standard deviation (variance, $\\sigma^2$). Naturally, the area under the curve equals $1$.\n",
        "\n",
        "<center>\n",
        "<img src=\"https://raw.githubusercontent.com/nimamox/bigdata-nb-files/master/Week3/images/normal1.png\"  width=\"600\">\n",
        "</center>\n",
        "\n",
        "\n",
        "Probability Density Function (pdf) = $f(x)=\\frac{1}{\\sqrt{2 \\pi \\sigma^{2}}} e^{\\frac{-(x-\\mu)^{2}}{2 \\sigma^{2}}}$\n",
        "\n",
        "\n",
        "Cumulative Distribution Function (cdf) = $F(x)=\\int_{-\\infty}^{x} \\frac{1}{\\sqrt{2 \\pi \\sigma^{2}}} e^{\\frac{-(x-\\mu)^{2}}{2 \\sigma^{2}}} d x$\n",
        "\n",
        "Where $\\mu$ is the population mean and $\\sigma$ is the population standard deviation."
      ]
    },
    {
      "cell_type": "markdown",
      "metadata": {
        "id": "UsclVHEl3UQA",
        "colab_type": "text"
      },
      "source": [
        "> ##### Do you recall what the \"Standard Normal Distribution\" is?"
      ]
    },
    {
      "cell_type": "markdown",
      "metadata": {
        "id": "WRkW9wPb3UQD",
        "colab_type": "text"
      },
      "source": [
        "## How is Gaussian Distribution relevant to linear regression? \n",
        "\n",
        "The data points in the sample set, do not accurately represent the original data generating distribution or process. Hence we consider it as a stochastic process and build our model to accomodate a certain level of uncertainty. Every data point can be considered a random variable sampled from an underlying data-generating distribution which we assume to be gaussian. By that logic, estimation is basically recreating the original distribution that generated the sample data (via finding its parameters)."
      ]
    },
    {
      "cell_type": "markdown",
      "metadata": {
        "id": "bYUPP56B3UQG",
        "colab_type": "text"
      },
      "source": [
        "## Random Sampling\n",
        "The process of sampling from a normal distribution is expressed as, $x∼N(μ,σ^2)$. ‘$x$’ is a random variable sampled or generated or simulated from the guassian distribution. As we sample from this distribution, most samples will fall around the center, near the mean, because of higher probability density in the center; this is essentially what the bell-shaped curve of the normal distribution conveys.\n",
        "\n",
        "<center>\n",
        "<img src=\"https://raw.githubusercontent.com/nimamox/bigdata-nb-files/master/Week3/images/sampling1.png\"  width=\"600\">\n",
        "</center>\n"
      ]
    },
    {
      "cell_type": "markdown",
      "metadata": {
        "id": "dcB8gwij3UQI",
        "colab_type": "text"
      },
      "source": [
        "## Multivariate Gaussian\n",
        "\n",
        "The 2D gaussian distribution or bivariate distribution, consists of 2 random variables $x_1$ and $x_2$. The Multivariate Gaussian Distribution is a generalization of bivariate distribution, for ‘$k$’ dimensions. The shape of this distribution function depends on its mean vector and covariance matrix.\n",
        "\n",
        "A multivariate normal distribution of a $k$-dimensional random vector $\\mathbf{X} = (X_1,\\ldots,X_k)$ is written as $\\mathbf{X}\\ \\sim\\ \\mathcal{N}_k(\\boldsymbol\\mu,\\, \\boldsymbol\\Sigma)$ with $k$-dimensional mean vector $\\boldsymbol\\mu = \\operatorname{E}[\\mathbf{X}] = ( \\operatorname{E}[X_1], \\operatorname{E}[X_2], \\ldots, \\operatorname{E}[X_k] )$, and $k\\times k$ covariance matrix $\\Sigma_{i,j} := \\operatorname{E} [(X_i - \\mu_i)( X_j - \\mu_j)] = \\operatorname{Cov}[X_i, X_j]$\n",
        "\n",
        "A visualization of the bivariate normal distribution, along its probability distribution function is depicted below:\n",
        "\n",
        "<center>\n",
        "<img src=\"https://raw.githubusercontent.com/nimamox/bigdata-nb-files/master/Week3/images/bivariate3d.png\"  width=\"600\">\n",
        "</center>\n",
        "\n",
        "<center>\n",
        "<img src=\"https://raw.githubusercontent.com/nimamox/bigdata-nb-files/master/Week3/images/bivariatepdf.png\"  width=\"350\">\n",
        "</center>\n",
        "\n",
        "\n",
        "\n",
        "\n"
      ]
    },
    {
      "cell_type": "markdown",
      "metadata": {
        "id": "gJNVlxPr3UQL",
        "colab_type": "text"
      },
      "source": [
        "### Maximum Likelihood\n",
        "\n",
        "Consider three data points, $y_1=1$, $y_2=0.5$, $y_3=1.5$, which can be assumed to be independent and drawn from a identical guassian distribution with unknown mean $\\theta$, but known variance $1$. \n",
        "\n",
        "Let’s say we have two choices for $\\theta: \\{1, 2.5\\}$. Which one would you choose? Which model ($\\theta$) would explain the data better?\n",
        "\n",
        "In general, any data point drawn from a gaussian with mean $\\theta$ and and variance $1$, can be written as,\n",
        "\n",
        "### $y_i∼\\mathcal{N}(θ,1)=θ+\\mathcal{N}(0,1)$\n",
        "\n",
        "$\\theta$, the mean, shifts the center of the standard normal distribution ($\\mu=0$ and $\\sigma^2=1$).\n",
        "\n",
        "The likelihood of data $(y_1,y_2,y_3)$ having been drawn from $\\mathcal{N}(\\theta,1)$, can be defined as,\n",
        "\n",
        "### $P(y_1,y_2,y_3|\\theta) = P(y_1|\\theta)P(y_2|\\theta)P(y_3|\\theta)$\n",
        "\n",
        "as $y_1,y_2,y_3$ are independent."
      ]
    },
    {
      "cell_type": "markdown",
      "metadata": {
        "id": "1bOo-YTD3UQN",
        "colab_type": "text"
      },
      "source": [
        "Now, we have two normal distributions defined by $\\theta = 1$ and $\\theta = 2.5$. Let us draw both and plot the data points. In the figure below, notice the dotted lines that connect the bell curve to the data points. Consider the point $y_2=0.5$ in the first distribution( $\\mathcal{N}(\\mu=1,\\sigma^2=1)$ ). The length of the dotted line gives the probability of the $y_2=0.5$ being drawn from $\\mathcal{N}(\\mu=1,\\sigma^2=1)$.\n",
        "\n",
        "<center>\n",
        "<img src=\"https://raw.githubusercontent.com/nimamox/bigdata-nb-files/master/Week3/images/toy-eg.png\"  width=\"400\">\n",
        "</center>\n",
        "\n",
        "The likelihood of data $(y_1,y_2,y_3)$ having been drawn from $N(\\mu=1,\\sigma^2=1)$, is given by,\n",
        "\n",
        "### $P(y_1,y_2,y_3|\\theta=1) = P(y_1|\\theta=1)P(y_2|\\theta=1)P(y_3|\\theta=1)$\n",
        "\n",
        "The individual probabilities in the equation above, are equal to the heights of corresponding dotted lines in the figure. \n",
        "\n",
        "**We see that the likelihood, given by the product of individual probabilities of data points given model, is basically the product of lengths of dotted lines.**\n",
        " \n",
        "It is obvious that the likelihood of model $\\theta=1$ is higher. We choose the model ($\\theta=1$), that maximizes the likelihood.\n"
      ]
    },
    {
      "cell_type": "markdown",
      "metadata": {
        "id": "HYBo2kBo3UQP",
        "colab_type": "text"
      },
      "source": [
        "### Linear Regression\n",
        "\n",
        "We are ready to apply MLE to linear regression, where the objective is to find the best line that fits the data points. But first, let us make some assumptions. We assume each label, $y_i$, is gaussian distributed with mean, $x_i^T\\theta$ and variance, $\\sigma^2$, given by\n",
        "\n",
        "$$y_i = \\mathcal{N}(x_i^T\\theta,\\sigma^2) = x_i^T\\theta + \\mathcal{N}(0,\\sigma^2)\\\\\n",
        "prediction\\colon \\hat{y}_i = x_i^T\\theta$$\n",
        "\n",
        "The mean, $x_i^Tθ$ represents the best fit line. The data points will vary about the line, and the second term, captures this variance, $N(0,σ^2)$\n",
        "\n",
        "<center>\n",
        "<img src=\"https://raw.githubusercontent.com/nimamox/bigdata-nb-files/master/Week3/images/lr1.png\"  width=\"600\">\n",
        "</center>\n"
      ]
    },
    {
      "cell_type": "markdown",
      "metadata": {
        "id": "mXlXwzFa3UQR",
        "colab_type": "text"
      },
      "source": [
        "### Estimation\n",
        "\n",
        "If we assume that each point $y_i$ is gaussian distributed, the process of estimation becomes the process of maximizing the product of the individual probabilities, which is equivalent to maximizing the log likelihood. We switch to log space, as it is more convenient and it removes the exponential in the gaussian distribution.\n",
        "\n",
        "<center>\n",
        "<img src=\"https://raw.githubusercontent.com/nimamox/bigdata-nb-files/master/Week3/images/lr2.png\"  width=\"600\">\n",
        "</center>\n",
        "\n",
        "As the data points are independent, we can write the joint probability distribution of $y,\\theta,\\sigma$ as,\n",
        "\n",
        "$$p(y|X,\\theta,\\sigma) = \\prod_{i=1}^n p(y_i|x_i,\\theta,\\sigma)\\\\\n",
        "p(y|X,\\theta,\\sigma) = \\prod_{i=1}^n(2\\pi \\sigma^2)^{-2/2}{\\rm e}^{-\\frac{1}{2\\sigma^2}(y_i-x_i^T\\theta)^2}$$\n",
        "\n",
        "\n"
      ]
    },
    {
      "cell_type": "markdown",
      "metadata": {
        "id": "BAHAPvzf3UQT",
        "colab_type": "text"
      },
      "source": [
        "rewriting in matrix form,\n",
        "\n",
        "$$p(y|X,\\theta,\\sigma) = (2\\pi \\sigma^2)^{-n/2}{\\rm e}^{-\\frac{1}{2\\sigma^2}(y-X\\theta)^T (y-X\\theta)}$$\n"
      ]
    },
    {
      "cell_type": "markdown",
      "metadata": {
        "id": "xUGG2MV23UQW",
        "colab_type": "text"
      },
      "source": [
        "Log likelihood,\n",
        "\n",
        "$$l(\\theta) = -\\frac{n}{2}\\log(2\\pi \\sigma^2) - \\frac{1}{2\\sigma^2}(Y-X\\theta)^T(Y-X\\theta)$$\n"
      ]
    },
    {
      "cell_type": "markdown",
      "metadata": {
        "id": "Fp_LU82G3UQa",
        "colab_type": "text"
      },
      "source": [
        "The first term is a constant and the second term is a parabola, the peak (maxima) of which can be found by equating the derivative of $l(\\theta)$ to zero. Equating first derivative to zero, we get,\n",
        "$$\\frac{dl(\\theta)}{d\\theta} = 0 = -\\frac{1}{2\\sigma^2}(0-2X^TY+X^TX\\theta)$$\n"
      ]
    },
    {
      "cell_type": "markdown",
      "metadata": {
        "id": "wgIBvig33UQc",
        "colab_type": "text"
      },
      "source": [
        "we get,\n",
        "\n",
        "$$\\hat{\\theta}_{ML} = (X^TX)^{-1}X^TY$$\n",
        "\n",
        "Finally, we reach our goal of finding the best model for linear regression. This equation is commonly known as the normal equation. **The same equation can be derived using the least squares method.**"
      ]
    },
    {
      "cell_type": "markdown",
      "metadata": {
        "id": "YmKYz-783UQf",
        "colab_type": "text"
      },
      "source": [
        "# Showcase:  Maximum Likelihood Estimation to fit a linear (polynomial) model to some data points\n"
      ]
    },
    {
      "cell_type": "markdown",
      "metadata": {
        "id": "5q_7B-I93UQf",
        "colab_type": "text"
      },
      "source": [
        "Again, we first start by implementing LR with MLE parameter estimation to get a better understanding of the procedure. The synthetic data-generating process of ours will be a quadratic function with some noise, that we want to model with linear regression."
      ]
    },
    {
      "cell_type": "code",
      "metadata": {
        "id": "qW_wEArM3UQh",
        "colab_type": "code",
        "colab": {}
      },
      "source": [
        "import numpy as np\n",
        "import math\n",
        "\n",
        "x = np.linspace(0.0,10.0, num=100)\n",
        "a = 4.0\n",
        "b = -3.5\n",
        "c = 0.0\n",
        "y = (a*(x**2)) + (b*x) + c\n",
        "\n",
        "#   let's add noise to the data\n",
        "#   np.random.normal(mean, standardDeviation, num)\n",
        "noise = np.random.normal(0, 10., 100)\n",
        "y = y+noise"
      ],
      "execution_count": null,
      "outputs": []
    },
    {
      "cell_type": "code",
      "metadata": {
        "id": "Wf_67nm33UQp",
        "colab_type": "code",
        "colab": {
          "base_uri": "https://localhost:8080/",
          "height": 282
        },
        "outputId": "e2d722da-6599-407e-ede6-5ad7693516d8"
      },
      "source": [
        "#   plot my data\n",
        "%matplotlib inline\n",
        "import matplotlib.pyplot as plt\n",
        "plt.figure()\n",
        "plt.plot(x,y, 'ok')\n",
        "plt.grid(True)\n",
        "plt.show()\n",
        "plt.savefig('myData.png', dpi=300, type='png')"
      ],
      "execution_count": null,
      "outputs": [
        {
          "output_type": "display_data",
          "data": {
            "image/png": "[encoded data removed]",
            "text/plain": [
              "<Figure size 432x288 with 1 Axes>"
            ]
          },
          "metadata": {
            "tags": []
          }
        },
        {
          "output_type": "display_data",
          "data": {
            "text/plain": [
              "<Figure size 432x288 with 0 Axes>"
            ]
          },
          "metadata": {
            "tags": []
          }
        }
      ]
    },
    {
      "cell_type": "code",
      "metadata": {
        "id": "GgOWbbtA3UQw",
        "colab_type": "code",
        "colab": {}
      },
      "source": [
        "# define a function to calculate the log likiehood\n",
        "def calcLogLikelihood(guess, true, n):\n",
        "    error = true - guess\n",
        "    sigma = np.std(error)\n",
        "    f = (1.0 / (2.0 * math.pi * sigma * sigma)) ** (n / 2) * np.exp(-1\n",
        "            * (np.dot(error.T, error) / (2 * sigma * sigma)))\n",
        "    return np.log(f)"
      ],
      "execution_count": null,
      "outputs": []
    },
    {
      "cell_type": "code",
      "metadata": {
        "id": "k7UU47j73UQ2",
        "colab_type": "code",
        "colab": {}
      },
      "source": [
        "# define my function which will return the objective function to be minimized\n",
        "def myFunction(var):\n",
        "    yGuess = var[2] * x ** 2 + var[1] * x + var[0]\n",
        "    f = calcLogLikelihood(yGuess, y, float(len(yGuess)))\n",
        "    return -1 * f\n"
      ],
      "execution_count": null,
      "outputs": []
    },
    {
      "cell_type": "code",
      "metadata": {
        "id": "Si7IaMtC3UQ8",
        "colab_type": "code",
        "colab": {}
      },
      "source": [
        "# Let's pick some random starting points for the optimizaiton    \n",
        "nvar = 3\n",
        "var = np.zeros(nvar)\n",
        "var[0] = -15.5\n",
        "var[1] = 19.5\n",
        "var[2] = -1.0"
      ],
      "execution_count": null,
      "outputs": []
    },
    {
      "cell_type": "code",
      "metadata": {
        "id": "IiigJO-e3URC",
        "colab_type": "code",
        "colab": {
          "base_uri": "https://localhost:8080/",
          "height": 104
        },
        "outputId": "ebf4f092-ab78-41b9-bbbe-92e847bd0937"
      },
      "source": [
        "# Let's maximize the liklihood (minimize -1*max(likelihood)\n",
        "from scipy.optimize import minimize\n",
        "res = minimize(myFunction, var, method='BFGS',\n",
        "                options={'disp': True})"
      ],
      "execution_count": null,
      "outputs": [
        {
          "output_type": "stream",
          "text": [
            "Warning: Desired error not necessarily achieved due to precision loss.\n",
            "         Current function value: 379.006391\n",
            "         Iterations: 14\n",
            "         Function evaluations: 156\n",
            "         Gradient evaluations: 31\n"
          ],
          "name": "stdout"
        }
      ]
    },
    {
      "cell_type": "code",
      "metadata": {
        "id": "lk53MM5D3URJ",
        "colab_type": "code",
        "colab": {}
      },
      "source": [
        "#   perfrom least squres fit using scikitlearn\n",
        "from sklearn.preprocessing import PolynomialFeatures\n",
        "from sklearn.linear_model import LinearRegression\n",
        "from sklearn.pipeline import Pipeline\n",
        "model = Pipeline([('poly', PolynomialFeatures(degree=2)),\n",
        "    ('linear', LinearRegression(fit_intercept=False))])\n",
        "\n",
        "model = model.fit(x[:, np.newaxis], y)\n",
        "coefs = model.named_steps['linear'].coef_"
      ],
      "execution_count": null,
      "outputs": []
    },
    {
      "cell_type": "code",
      "metadata": {
        "id": "HtPdIIOU3URO",
        "colab_type": "code",
        "colab": {
          "base_uri": "https://localhost:8080/",
          "height": 282
        },
        "outputId": "42e76599-9b98-45c9-9140-a2b92f6427d3"
      },
      "source": [
        "#   plot the data and model fits\n",
        "plt.figure()\n",
        "plt.plot(x,y, 'ok')\n",
        "plt.plot(x,model.predict(x[:,np.newaxis]), '-r', label='Least Squres')\n",
        "plt.plot(x,(res.x[2]*(x**2)) + (res.x[1]*x) + res.x[0], '--b', label='Max Likelihood')\n",
        "plt.grid(True)\n",
        "plt.legend(loc=2)\n",
        "plt.show()\n",
        "plt.savefig('maxLikelihoodComp.png', dpi=300, type='png');"
      ],
      "execution_count": null,
      "outputs": [
        {
          "output_type": "display_data",
          "data": {
            "image/png": "[encoded data removed]",
            "text/plain": [
              "<Figure size 432x288 with 1 Axes>"
            ]
          },
          "metadata": {
            "tags": []
          }
        },
        {
          "output_type": "display_data",
          "data": {
            "text/plain": [
              "<Figure size 432x288 with 0 Axes>"
            ]
          },
          "metadata": {
            "tags": []
          }
        }
      ]
    },
    {
      "cell_type": "code",
      "metadata": {
        "id": "hTWYWHoq3URU",
        "colab_type": "code",
        "colab": {}
      },
      "source": [
        ""
      ],
      "execution_count": null,
      "outputs": []
    }
  ]
}